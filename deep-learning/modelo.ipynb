{
 "cells": [
  {
   "cell_type": "markdown",
   "metadata": {},
   "source": [
    "# Desafio #9"
   ]
  },
  {
   "cell_type": "markdown",
   "metadata": {},
   "source": [
    "### Instalação de libs requeridas"
   ]
  },
  {
   "cell_type": "code",
   "execution_count": 1,
   "metadata": {},
   "outputs": [
    {
     "name": "stdout",
     "output_type": "stream",
     "text": [
      "Requirement already satisfied: opencv-python in /home/cprado/projetos/hackathon/ibm/behind-the-code-2019/btc9/env9/lib/python3.5/site-packages (4.1.0.25)\r\n",
      "Requirement already satisfied: imutils in /home/cprado/projetos/hackathon/ibm/behind-the-code-2019/btc9/env9/lib/python3.5/site-packages (0.5.2)\r\n",
      "Requirement already satisfied: numpy>=1.11.1 in /home/cprado/projetos/hackathon/ibm/behind-the-code-2019/btc9/env9/lib/python3.5/site-packages (from opencv-python) (1.17.0)\r\n"
     ]
    }
   ],
   "source": [
    "!pip install opencv-python imutils"
   ]
  },
  {
   "cell_type": "code",
   "execution_count": 1,
   "metadata": {},
   "outputs": [
    {
     "name": "stderr",
     "output_type": "stream",
     "text": [
      "/home/cprado/projetos/hackathon/ibm/behind-the-code-2019/btc9/env9/lib/python3.5/site-packages/tensorflow/python/framework/dtypes.py:516: FutureWarning: Passing (type, 1) or '1type' as a synonym of type is deprecated; in a future version of numpy, it will be understood as (type, (1,)) / '(1,)type'.\n",
      "  _np_qint8 = np.dtype([(\"qint8\", np.int8, 1)])\n",
      "/home/cprado/projetos/hackathon/ibm/behind-the-code-2019/btc9/env9/lib/python3.5/site-packages/tensorflow/python/framework/dtypes.py:517: FutureWarning: Passing (type, 1) or '1type' as a synonym of type is deprecated; in a future version of numpy, it will be understood as (type, (1,)) / '(1,)type'.\n",
      "  _np_quint8 = np.dtype([(\"quint8\", np.uint8, 1)])\n",
      "/home/cprado/projetos/hackathon/ibm/behind-the-code-2019/btc9/env9/lib/python3.5/site-packages/tensorflow/python/framework/dtypes.py:518: FutureWarning: Passing (type, 1) or '1type' as a synonym of type is deprecated; in a future version of numpy, it will be understood as (type, (1,)) / '(1,)type'.\n",
      "  _np_qint16 = np.dtype([(\"qint16\", np.int16, 1)])\n",
      "/home/cprado/projetos/hackathon/ibm/behind-the-code-2019/btc9/env9/lib/python3.5/site-packages/tensorflow/python/framework/dtypes.py:519: FutureWarning: Passing (type, 1) or '1type' as a synonym of type is deprecated; in a future version of numpy, it will be understood as (type, (1,)) / '(1,)type'.\n",
      "  _np_quint16 = np.dtype([(\"quint16\", np.uint16, 1)])\n",
      "/home/cprado/projetos/hackathon/ibm/behind-the-code-2019/btc9/env9/lib/python3.5/site-packages/tensorflow/python/framework/dtypes.py:520: FutureWarning: Passing (type, 1) or '1type' as a synonym of type is deprecated; in a future version of numpy, it will be understood as (type, (1,)) / '(1,)type'.\n",
      "  _np_qint32 = np.dtype([(\"qint32\", np.int32, 1)])\n",
      "/home/cprado/projetos/hackathon/ibm/behind-the-code-2019/btc9/env9/lib/python3.5/site-packages/tensorflow/python/framework/dtypes.py:525: FutureWarning: Passing (type, 1) or '1type' as a synonym of type is deprecated; in a future version of numpy, it will be understood as (type, (1,)) / '(1,)type'.\n",
      "  np_resource = np.dtype([(\"resource\", np.ubyte, 1)])\n",
      "/home/cprado/projetos/hackathon/ibm/behind-the-code-2019/btc9/env9/lib/python3.5/site-packages/tensorboard/compat/tensorflow_stub/dtypes.py:541: FutureWarning: Passing (type, 1) or '1type' as a synonym of type is deprecated; in a future version of numpy, it will be understood as (type, (1,)) / '(1,)type'.\n",
      "  _np_qint8 = np.dtype([(\"qint8\", np.int8, 1)])\n",
      "/home/cprado/projetos/hackathon/ibm/behind-the-code-2019/btc9/env9/lib/python3.5/site-packages/tensorboard/compat/tensorflow_stub/dtypes.py:542: FutureWarning: Passing (type, 1) or '1type' as a synonym of type is deprecated; in a future version of numpy, it will be understood as (type, (1,)) / '(1,)type'.\n",
      "  _np_quint8 = np.dtype([(\"quint8\", np.uint8, 1)])\n",
      "/home/cprado/projetos/hackathon/ibm/behind-the-code-2019/btc9/env9/lib/python3.5/site-packages/tensorboard/compat/tensorflow_stub/dtypes.py:543: FutureWarning: Passing (type, 1) or '1type' as a synonym of type is deprecated; in a future version of numpy, it will be understood as (type, (1,)) / '(1,)type'.\n",
      "  _np_qint16 = np.dtype([(\"qint16\", np.int16, 1)])\n",
      "/home/cprado/projetos/hackathon/ibm/behind-the-code-2019/btc9/env9/lib/python3.5/site-packages/tensorboard/compat/tensorflow_stub/dtypes.py:544: FutureWarning: Passing (type, 1) or '1type' as a synonym of type is deprecated; in a future version of numpy, it will be understood as (type, (1,)) / '(1,)type'.\n",
      "  _np_quint16 = np.dtype([(\"quint16\", np.uint16, 1)])\n",
      "/home/cprado/projetos/hackathon/ibm/behind-the-code-2019/btc9/env9/lib/python3.5/site-packages/tensorboard/compat/tensorflow_stub/dtypes.py:545: FutureWarning: Passing (type, 1) or '1type' as a synonym of type is deprecated; in a future version of numpy, it will be understood as (type, (1,)) / '(1,)type'.\n",
      "  _np_qint32 = np.dtype([(\"qint32\", np.int32, 1)])\n",
      "/home/cprado/projetos/hackathon/ibm/behind-the-code-2019/btc9/env9/lib/python3.5/site-packages/tensorboard/compat/tensorflow_stub/dtypes.py:550: FutureWarning: Passing (type, 1) or '1type' as a synonym of type is deprecated; in a future version of numpy, it will be understood as (type, (1,)) / '(1,)type'.\n",
      "  np_resource = np.dtype([(\"resource\", np.ubyte, 1)])\n",
      "Using TensorFlow backend.\n",
      "/home/cprado/projetos/hackathon/ibm/behind-the-code-2019/btc9/env9/lib/python3.5/site-packages/sklearn/externals/joblib/__init__.py:15: DeprecationWarning: sklearn.externals.joblib is deprecated in 0.21 and will be removed in 0.23. Please import this functionality directly from joblib, which can be installed with: pip install joblib. If this warning is raised when loading pickled models, you may need to re-serialize those models with scikit-learn 0.21+.\n",
      "  warnings.warn(msg, category=DeprecationWarning)\n"
     ]
    }
   ],
   "source": [
    "# Libs de apoio\n",
    "import pandas as pd\n",
    "import numpy as np\n",
    "import matplotlib.pyplot as plt\n",
    "from IPython.display import Image, display\n",
    "import os , random , json , requests\n",
    "import types\n",
    "import pandas as pd\n",
    "\n",
    "# Libs para criação de modelo DeepLearning\n",
    "# ATENÇÃO - Não utilizar o Keras interno do Tensorflow por incompatibilidade com o WML\n",
    "import tensorflow as tf\n",
    "import keras\n",
    "from keras.models import Sequential\n",
    "from keras.layers import Dense, Activation, Dropout, Flatten\n",
    "from keras.layers import Conv2D\n",
    "from keras.layers import MaxPooling2D\n",
    "from keras.layers import InputLayer\n",
    "from keras.preprocessing import image as Kimage\n",
    "from keras.preprocessing.image import img_to_array\n",
    "from sklearn.preprocessing import LabelBinarizer\n",
    "from sklearn.model_selection import train_test_split\n",
    "from keras.preprocessing.image import ImageDataGenerator\n",
    "from imutils import paths\n",
    "\n",
    "# Libs para comunicação APIs Watson IBM\n",
    "from ibm_botocore.client import Config\n",
    "import ibm_boto3\n",
    "from watson_machine_learning_client import WatsonMachineLearningAPIClient"
   ]
  },
  {
   "cell_type": "markdown",
   "metadata": {},
   "source": [
    "### Download do Dataset(imagens) da competição"
   ]
  },
  {
   "cell_type": "code",
   "execution_count": null,
   "metadata": {},
   "outputs": [
    {
     "name": "stdout",
     "output_type": "stream",
     "text": [
      "--2019-08-17 15:56:51--  https://www.dropbox.com/s/trcr1k2dfmk8b44/DatasetBHTC.zip?dl=0\n",
      "Resolving www.dropbox.com (www.dropbox.com)... 162.125.5.1, 2620:100:601d:1::a27d:501\n",
      "Connecting to www.dropbox.com (www.dropbox.com)|162.125.5.1|:443... connected.\n",
      "HTTP request sent, awaiting response... 301 Moved Permanently\n",
      "Location: /s/raw/trcr1k2dfmk8b44/DatasetBHTC.zip [following]\n",
      "--2019-08-17 15:56:53--  https://www.dropbox.com/s/raw/trcr1k2dfmk8b44/DatasetBHTC.zip\n",
      "Reusing existing connection to www.dropbox.com:443.\n",
      "HTTP request sent, awaiting response... 302 Found\n",
      "Location: https://ucde946763987701d2dc7dc751af.dl.dropboxusercontent.com/cd/0/inline/Am22VEl_rs95O9rsFjZH13GNVXxJSeitGJ-OMXZ2cVX5Cme4m4QX1XfWEwCU9kbFD2XZac4KK3pxHXlrqV2Za6LgnosEdWCCHPzMa_yN5cC6_dvWGLDiFm342qa9TYjbjDU/file# [following]\n",
      "--2019-08-17 15:56:53--  https://ucde946763987701d2dc7dc751af.dl.dropboxusercontent.com/cd/0/inline/Am22VEl_rs95O9rsFjZH13GNVXxJSeitGJ-OMXZ2cVX5Cme4m4QX1XfWEwCU9kbFD2XZac4KK3pxHXlrqV2Za6LgnosEdWCCHPzMa_yN5cC6_dvWGLDiFm342qa9TYjbjDU/file\n",
      "Resolving ucde946763987701d2dc7dc751af.dl.dropboxusercontent.com (ucde946763987701d2dc7dc751af.dl.dropboxusercontent.com)... 162.125.5.6, 2620:100:601d:6::a27d:506\n",
      "Connecting to ucde946763987701d2dc7dc751af.dl.dropboxusercontent.com (ucde946763987701d2dc7dc751af.dl.dropboxusercontent.com)|162.125.5.6|:443... connected.\n",
      "HTTP request sent, awaiting response... 302 FOUND\n",
      "Location: /cd/0/inline2/Am3wVcs-5gTzdj2QzYbtEyRDFav7UGdi9nsNvBJIKRS3KBihmeMMYLm-r1GcGeVv5M2XCf1oQc5qhFCDw3UoHvxb7-Tjq7t5FNJRl6nZoJZ1dHtlP1PaubPMrApduD2UramqC2AV703i_Je1d3D1G4LEnLJEVGWwwUJrRp9JPHnhf_jJsD1P7EWhIF2aUFCQfe4EJzOm2cpsoRgPyVmZEzJaYXhMVyVWJ1TFWxQlbJKVO6AndLgWM_IMg21IKjaoDCngzGQ1UJIl6M2EYP1cluKtqmHfudCirw2E9IH7mdCtYvJXh9XvhO6ujuahAGK_lbhgPrCGL61wzZV4Q2rBA-ybe8pu0v_f1lNdBUS56NVDkQ/file [following]\n",
      "--2019-08-17 15:56:54--  https://ucde946763987701d2dc7dc751af.dl.dropboxusercontent.com/cd/0/inline2/Am3wVcs-5gTzdj2QzYbtEyRDFav7UGdi9nsNvBJIKRS3KBihmeMMYLm-r1GcGeVv5M2XCf1oQc5qhFCDw3UoHvxb7-Tjq7t5FNJRl6nZoJZ1dHtlP1PaubPMrApduD2UramqC2AV703i_Je1d3D1G4LEnLJEVGWwwUJrRp9JPHnhf_jJsD1P7EWhIF2aUFCQfe4EJzOm2cpsoRgPyVmZEzJaYXhMVyVWJ1TFWxQlbJKVO6AndLgWM_IMg21IKjaoDCngzGQ1UJIl6M2EYP1cluKtqmHfudCirw2E9IH7mdCtYvJXh9XvhO6ujuahAGK_lbhgPrCGL61wzZV4Q2rBA-ybe8pu0v_f1lNdBUS56NVDkQ/file\n",
      "Reusing existing connection to ucde946763987701d2dc7dc751af.dl.dropboxusercontent.com:443.\n",
      "HTTP request sent, awaiting response... 200 OK\n",
      "Length: 156747024 (149M) [application/zip]\n",
      "Saving to: ‘dataset102.zip’\n",
      "\n",
      "dataset102.zip        2%[                    ]   3,24M   999KB/s    eta 2m 40s "
     ]
    }
   ],
   "source": [
    "!wget -O dataset102.zip https://www.dropbox.com/s/trcr1k2dfmk8b44/DatasetBHTC.zip?dl=0\n",
    "\n",
    "!unzip -o ./dataset102.zip\n",
    "!mkdir DATASET\n",
    "!mv CLEAN DIRTY DATASET"
   ]
  },
  {
   "cell_type": "markdown",
   "metadata": {},
   "source": [
    "### Definição do Modelo - Não alterar o input_shape"
   ]
  },
  {
   "cell_type": "code",
   "execution_count": 57,
   "metadata": {},
   "outputs": [
    {
     "name": "stdout",
     "output_type": "stream",
     "text": [
      "_________________________________________________________________\n",
      "Layer (type)                 Output Shape              Param #   \n",
      "=================================================================\n",
      "conv2d_49 (Conv2D)           (None, 96, 96, 16)        448       \n",
      "_________________________________________________________________\n",
      "max_pooling2d_32 (MaxPooling (None, 48, 48, 16)        0         \n",
      "_________________________________________________________________\n",
      "conv2d_50 (Conv2D)           (None, 48, 48, 16)        2320      \n",
      "_________________________________________________________________\n",
      "conv2d_51 (Conv2D)           (None, 48, 48, 32)        4640      \n",
      "_________________________________________________________________\n",
      "max_pooling2d_33 (MaxPooling (None, 24, 24, 32)        0         \n",
      "_________________________________________________________________\n",
      "flatten_17 (Flatten)         (None, 18432)             0         \n",
      "_________________________________________________________________\n",
      "dense_33 (Dense)             (None, 128)               2359424   \n",
      "_________________________________________________________________\n",
      "dense_34 (Dense)             (None, 2)                 258       \n",
      "=================================================================\n",
      "Total params: 2,367,090\n",
      "Trainable params: 2,367,090\n",
      "Non-trainable params: 0\n",
      "_________________________________________________________________\n"
     ]
    }
   ],
   "source": [
    "random.seed(1)\n",
    "model = Sequential()\n",
    "model.add(Conv2D(16, (3,3), input_shape=(96,96,3), padding='same', activation='relu'))\n",
    "model.add(MaxPooling2D(pool_size=(2,2),strides=(2,2)))\n",
    "model.add(Conv2D(16, (3,3), padding='same', activation='relu'))\n",
    "model.add(Conv2D(32, (3,3), padding='same', activation='relu'))\n",
    "model.add(MaxPooling2D(pool_size=(2,2),strides=(2,2)))\n",
    "model.add(Flatten())\n",
    "model.add(Dense(128, activation='relu'))\n",
    "model.add(Dense(2, activation='sigmoid'))\n",
    "\n",
    "model.compile(loss='categorical_crossentropy',\n",
    "              optimizer='rmsprop',\n",
    "              metrics=['accuracy'])\n",
    "\n",
    "model.summary()"
   ]
  },
  {
   "cell_type": "markdown",
   "metadata": {},
   "source": [
    "### Load das imagens, já com pre-processing, para utilizar no Train do modelo"
   ]
  },
  {
   "cell_type": "code",
   "execution_count": 3,
   "metadata": {},
   "outputs": [],
   "source": [
    "imagePaths = sorted(list(paths.list_images('DATASET/')))\n",
    "\n",
    "random.seed(1)\n",
    "random.shuffle(imagePaths)\n",
    "\n",
    "data = []\n",
    "labels = []\n",
    "\n",
    "for imagePath in imagePaths:\n",
    "    image = Kimage.load_img(imagePath,target_size=(96,96))\n",
    "    image = img_to_array(image)\n",
    "    data.append(image)\n",
    "    label = imagePath.split(os.path.sep)[-2]\n",
    "    labels.append(label)"
   ]
  },
  {
   "cell_type": "code",
   "execution_count": 4,
   "metadata": {},
   "outputs": [
    {
     "data": {
      "text/plain": [
       "['CLEAN',\n",
       " 'DIRTY',\n",
       " 'CLEAN',\n",
       " 'DIRTY',\n",
       " 'CLEAN',\n",
       " 'DIRTY',\n",
       " 'CLEAN',\n",
       " 'DIRTY',\n",
       " 'DIRTY',\n",
       " 'DIRTY',\n",
       " 'DIRTY',\n",
       " 'CLEAN',\n",
       " 'CLEAN',\n",
       " 'DIRTY',\n",
       " 'DIRTY',\n",
       " 'CLEAN',\n",
       " 'CLEAN',\n",
       " 'CLEAN',\n",
       " 'CLEAN',\n",
       " 'DIRTY',\n",
       " 'DIRTY',\n",
       " 'CLEAN',\n",
       " 'CLEAN',\n",
       " 'CLEAN',\n",
       " 'CLEAN',\n",
       " 'CLEAN',\n",
       " 'CLEAN',\n",
       " 'DIRTY',\n",
       " 'DIRTY',\n",
       " 'CLEAN',\n",
       " 'DIRTY',\n",
       " 'DIRTY',\n",
       " 'CLEAN',\n",
       " 'DIRTY',\n",
       " 'CLEAN',\n",
       " 'CLEAN',\n",
       " 'CLEAN',\n",
       " 'CLEAN',\n",
       " 'CLEAN',\n",
       " 'DIRTY',\n",
       " 'CLEAN',\n",
       " 'DIRTY',\n",
       " 'CLEAN',\n",
       " 'DIRTY',\n",
       " 'DIRTY',\n",
       " 'DIRTY',\n",
       " 'CLEAN',\n",
       " 'CLEAN',\n",
       " 'DIRTY',\n",
       " 'DIRTY',\n",
       " 'CLEAN',\n",
       " 'DIRTY',\n",
       " 'DIRTY',\n",
       " 'CLEAN',\n",
       " 'CLEAN',\n",
       " 'DIRTY',\n",
       " 'DIRTY',\n",
       " 'CLEAN',\n",
       " 'DIRTY',\n",
       " 'DIRTY',\n",
       " 'CLEAN',\n",
       " 'CLEAN',\n",
       " 'DIRTY',\n",
       " 'CLEAN',\n",
       " 'CLEAN',\n",
       " 'DIRTY',\n",
       " 'DIRTY',\n",
       " 'DIRTY',\n",
       " 'DIRTY',\n",
       " 'CLEAN',\n",
       " 'DIRTY',\n",
       " 'DIRTY',\n",
       " 'CLEAN',\n",
       " 'DIRTY',\n",
       " 'DIRTY',\n",
       " 'DIRTY',\n",
       " 'DIRTY',\n",
       " 'CLEAN',\n",
       " 'DIRTY',\n",
       " 'DIRTY',\n",
       " 'CLEAN',\n",
       " 'DIRTY',\n",
       " 'CLEAN',\n",
       " 'CLEAN',\n",
       " 'DIRTY',\n",
       " 'CLEAN',\n",
       " 'DIRTY',\n",
       " 'CLEAN',\n",
       " 'CLEAN',\n",
       " 'DIRTY',\n",
       " 'DIRTY',\n",
       " 'CLEAN',\n",
       " 'DIRTY',\n",
       " 'DIRTY',\n",
       " 'DIRTY',\n",
       " 'CLEAN',\n",
       " 'DIRTY',\n",
       " 'DIRTY',\n",
       " 'CLEAN',\n",
       " 'CLEAN',\n",
       " 'DIRTY',\n",
       " 'DIRTY',\n",
       " 'CLEAN',\n",
       " 'DIRTY',\n",
       " 'CLEAN',\n",
       " 'CLEAN',\n",
       " 'DIRTY',\n",
       " 'DIRTY',\n",
       " 'CLEAN',\n",
       " 'CLEAN',\n",
       " 'CLEAN',\n",
       " 'DIRTY',\n",
       " 'CLEAN',\n",
       " 'CLEAN',\n",
       " 'CLEAN',\n",
       " 'DIRTY',\n",
       " 'DIRTY',\n",
       " 'CLEAN',\n",
       " 'DIRTY',\n",
       " 'CLEAN',\n",
       " 'CLEAN',\n",
       " 'DIRTY',\n",
       " 'CLEAN',\n",
       " 'CLEAN',\n",
       " 'DIRTY',\n",
       " 'DIRTY',\n",
       " 'DIRTY',\n",
       " 'DIRTY',\n",
       " 'CLEAN',\n",
       " 'CLEAN',\n",
       " 'DIRTY',\n",
       " 'DIRTY',\n",
       " 'CLEAN',\n",
       " 'CLEAN',\n",
       " 'CLEAN',\n",
       " 'CLEAN',\n",
       " 'DIRTY',\n",
       " 'DIRTY',\n",
       " 'CLEAN',\n",
       " 'DIRTY',\n",
       " 'CLEAN',\n",
       " 'DIRTY',\n",
       " 'DIRTY',\n",
       " 'DIRTY',\n",
       " 'CLEAN',\n",
       " 'CLEAN',\n",
       " 'CLEAN',\n",
       " 'DIRTY',\n",
       " 'DIRTY',\n",
       " 'DIRTY',\n",
       " 'CLEAN',\n",
       " 'DIRTY',\n",
       " 'CLEAN',\n",
       " 'CLEAN',\n",
       " 'CLEAN',\n",
       " 'DIRTY',\n",
       " 'DIRTY',\n",
       " 'DIRTY',\n",
       " 'CLEAN',\n",
       " 'DIRTY',\n",
       " 'DIRTY',\n",
       " 'DIRTY',\n",
       " 'CLEAN',\n",
       " 'CLEAN',\n",
       " 'DIRTY',\n",
       " 'DIRTY',\n",
       " 'DIRTY',\n",
       " 'CLEAN',\n",
       " 'DIRTY',\n",
       " 'DIRTY',\n",
       " 'DIRTY',\n",
       " 'CLEAN',\n",
       " 'DIRTY',\n",
       " 'CLEAN',\n",
       " 'DIRTY',\n",
       " 'DIRTY',\n",
       " 'CLEAN',\n",
       " 'CLEAN',\n",
       " 'DIRTY',\n",
       " 'CLEAN',\n",
       " 'CLEAN',\n",
       " 'DIRTY',\n",
       " 'CLEAN',\n",
       " 'CLEAN',\n",
       " 'DIRTY',\n",
       " 'DIRTY',\n",
       " 'CLEAN',\n",
       " 'DIRTY',\n",
       " 'DIRTY',\n",
       " 'DIRTY',\n",
       " 'CLEAN',\n",
       " 'DIRTY',\n",
       " 'CLEAN',\n",
       " 'CLEAN',\n",
       " 'DIRTY',\n",
       " 'DIRTY',\n",
       " 'DIRTY',\n",
       " 'DIRTY',\n",
       " 'DIRTY',\n",
       " 'DIRTY',\n",
       " 'CLEAN',\n",
       " 'CLEAN',\n",
       " 'CLEAN',\n",
       " 'DIRTY',\n",
       " 'DIRTY',\n",
       " 'CLEAN']"
      ]
     },
     "execution_count": 4,
     "metadata": {},
     "output_type": "execute_result"
    }
   ],
   "source": [
    "labels"
   ]
  },
  {
   "cell_type": "markdown",
   "metadata": {},
   "source": [
    "### Split do dataset em Train e Test"
   ]
  },
  {
   "cell_type": "code",
   "execution_count": 49,
   "metadata": {},
   "outputs": [
    {
     "name": "stdout",
     "output_type": "stream",
     "text": [
      "shape de X de treino : (164, 96, 96, 3)\n",
      "shape de Y de treino : (164, 2)\n",
      "shape de X de teste : (42, 96, 96, 3)\n",
      "shape de Y de teste : (42, 2)\n"
     ]
    }
   ],
   "source": [
    "classes = ['CLEAN', 'DIRTY']\n",
    "lb = LabelBinarizer()\n",
    "labels = lb.fit_transform(labels)\n",
    "data = np.array(data, dtype=\"float\") / 255.0\n",
    "\n",
    "(trainX, testX, trainY, testY) = train_test_split(data, labels, test_size=0.2, random_state=1)\n",
    "\n",
    "\n",
    "from keras.utils import to_categorical\n",
    "trainY = to_categorical(trainY)\n",
    "testY = to_categorical(testY)\n",
    "\n",
    "print(\"shape de X de treino :\",trainX.shape)\n",
    "print(\"shape de Y de treino :\",trainY.shape)\n",
    "print(\"shape de X de teste :\",testX.shape)\n",
    "print(\"shape de Y de teste :\",testY.shape)"
   ]
  },
  {
   "cell_type": "markdown",
   "metadata": {},
   "source": [
    "### Treinamento do modelo - utilizando DataGenerator"
   ]
  },
  {
   "cell_type": "code",
   "execution_count": 8,
   "metadata": {},
   "outputs": [
    {
     "data": {
      "text/plain": [
       "<keras.preprocessing.image.ImageDataGenerator at 0x7fb3bcbbc780>"
      ]
     },
     "execution_count": 8,
     "metadata": {},
     "output_type": "execute_result"
    }
   ],
   "source": [
    "aug"
   ]
  },
  {
   "cell_type": "code",
   "execution_count": 15,
   "metadata": {},
   "outputs": [],
   "source": [
    "aug = ImageDataGenerator(\n",
    "    rotation_range=20,\n",
    "    zoom_range=0.15,\n",
    "    width_shift_range=0.2,\n",
    "    height_shift_range=0.2,\n",
    "    shear_range=0.15,\n",
    "    horizontal_flip=True,\n",
    "    fill_mode=\"nearest\")"
   ]
  },
  {
   "cell_type": "code",
   "execution_count": 59,
   "metadata": {},
   "outputs": [
    {
     "name": "stdout",
     "output_type": "stream",
     "text": [
      "Epoch 1/40\n",
      "10/10 [==============================] - 1s 97ms/step - loss: 0.6883 - acc: 0.5625 - val_loss: 0.7118 - val_acc: 0.4286\n",
      "Epoch 2/40\n",
      "10/10 [==============================] - 1s 89ms/step - loss: 0.6945 - acc: 0.5270 - val_loss: 0.7080 - val_acc: 0.4286\n",
      "Epoch 3/40\n",
      "10/10 [==============================] - 1s 87ms/step - loss: 0.6873 - acc: 0.5693 - val_loss: 0.7127 - val_acc: 0.4286\n",
      "Epoch 4/40\n",
      "10/10 [==============================] - 1s 86ms/step - loss: 0.6922 - acc: 0.5422 - val_loss: 0.7110 - val_acc: 0.4286\n",
      "Epoch 5/40\n",
      "10/10 [==============================] - 1s 91ms/step - loss: 0.7051 - acc: 0.4722 - val_loss: 0.7037 - val_acc: 0.4286\n",
      "Epoch 6/40\n",
      "10/10 [==============================] - 1s 88ms/step - loss: 0.6753 - acc: 0.6304 - val_loss: 0.7300 - val_acc: 0.4286\n",
      "Epoch 7/40\n",
      "10/10 [==============================] - 1s 95ms/step - loss: 0.6981 - acc: 0.5207 - val_loss: 0.7082 - val_acc: 0.4286\n",
      "Epoch 8/40\n",
      "10/10 [==============================] - 1s 97ms/step - loss: 0.6931 - acc: 0.5270 - val_loss: 0.7022 - val_acc: 0.4286\n",
      "Epoch 9/40\n",
      "10/10 [==============================] - 1s 99ms/step - loss: 0.6907 - acc: 0.5522 - val_loss: 0.7025 - val_acc: 0.4286\n",
      "Epoch 10/40\n",
      "10/10 [==============================] - 1s 83ms/step - loss: 0.6920 - acc: 0.5396 - val_loss: 0.7033 - val_acc: 0.4286\n",
      "Epoch 11/40\n",
      "10/10 [==============================] - 1s 84ms/step - loss: 0.6904 - acc: 0.5548 - val_loss: 0.7085 - val_acc: 0.4286\n",
      "Epoch 12/40\n",
      "10/10 [==============================] - 1s 84ms/step - loss: 0.6898 - acc: 0.5500 - val_loss: 0.7114 - val_acc: 0.4286\n",
      "Epoch 13/40\n",
      "10/10 [==============================] - 1s 84ms/step - loss: 0.6868 - acc: 0.5674 - val_loss: 0.7140 - val_acc: 0.4286\n",
      "Epoch 14/40\n",
      "10/10 [==============================] - 1s 80ms/step - loss: 0.6892 - acc: 0.5504 - val_loss: 0.7143 - val_acc: 0.4286\n",
      "Epoch 15/40\n",
      "10/10 [==============================] - 1s 81ms/step - loss: 0.6934 - acc: 0.5396 - val_loss: 0.7108 - val_acc: 0.4286\n",
      "Epoch 16/40\n",
      "10/10 [==============================] - 1s 83ms/step - loss: 0.6942 - acc: 0.5189 - val_loss: 0.7028 - val_acc: 0.4286\n",
      "Epoch 17/40\n",
      "10/10 [==============================] - 1s 89ms/step - loss: 0.6829 - acc: 0.5989 - val_loss: 0.7140 - val_acc: 0.4286\n",
      "Epoch 18/40\n",
      "10/10 [==============================] - 1s 96ms/step - loss: 0.6840 - acc: 0.5800 - val_loss: 0.7208 - val_acc: 0.4286\n",
      "Epoch 19/40\n",
      "10/10 [==============================] - 1s 94ms/step - loss: 0.6983 - acc: 0.5018 - val_loss: 0.7029 - val_acc: 0.4286\n",
      "Epoch 20/40\n",
      "10/10 [==============================] - 1s 82ms/step - loss: 0.6815 - acc: 0.5926 - val_loss: 0.7209 - val_acc: 0.4286\n",
      "Epoch 21/40\n",
      "10/10 [==============================] - 1s 81ms/step - loss: 0.6871 - acc: 0.5674 - val_loss: 0.7254 - val_acc: 0.4286\n",
      "Epoch 22/40\n",
      "10/10 [==============================] - 1s 85ms/step - loss: 0.6916 - acc: 0.5504 - val_loss: 0.7157 - val_acc: 0.4286\n",
      "Epoch 23/40\n",
      "10/10 [==============================] - 1s 90ms/step - loss: 0.6862 - acc: 0.5625 - val_loss: 0.7159 - val_acc: 0.4286\n",
      "Epoch 24/40\n",
      "10/10 [==============================] - 1s 116ms/step - loss: 0.6968 - acc: 0.5207 - val_loss: 0.7056 - val_acc: 0.4286\n",
      "Epoch 25/40\n",
      "10/10 [==============================] - 1s 95ms/step - loss: 0.6881 - acc: 0.5693 - val_loss: 0.7111 - val_acc: 0.4286\n",
      "Epoch 26/40\n",
      "10/10 [==============================] - 1s 89ms/step - loss: 0.6885 - acc: 0.5548 - val_loss: 0.7133 - val_acc: 0.4286\n",
      "Epoch 27/40\n",
      "10/10 [==============================] - 1s 86ms/step - loss: 0.6860 - acc: 0.5737 - val_loss: 0.7190 - val_acc: 0.4286\n",
      "Epoch 28/40\n",
      "10/10 [==============================] - 1s 88ms/step - loss: 0.6928 - acc: 0.5315 - val_loss: 0.7095 - val_acc: 0.4286\n",
      "Epoch 29/40\n",
      "10/10 [==============================] - 1s 85ms/step - loss: 0.6867 - acc: 0.5693 - val_loss: 0.7147 - val_acc: 0.4286\n",
      "Epoch 30/40\n",
      "10/10 [==============================] - 1s 93ms/step - loss: 0.6932 - acc: 0.5270 - val_loss: 0.7053 - val_acc: 0.4286\n",
      "Epoch 31/40\n",
      "10/10 [==============================] - 1s 92ms/step - loss: 0.6807 - acc: 0.5926 - val_loss: 0.7257 - val_acc: 0.4286\n",
      "Epoch 32/40\n",
      "10/10 [==============================] - 1s 94ms/step - loss: 0.6993 - acc: 0.5063 - val_loss: 0.7057 - val_acc: 0.4286\n",
      "Epoch 33/40\n",
      "10/10 [==============================] - 1s 111ms/step - loss: 0.6788 - acc: 0.6096 - val_loss: 0.7237 - val_acc: 0.4286\n",
      "Epoch 34/40\n",
      "10/10 [==============================] - 1s 105ms/step - loss: 0.6890 - acc: 0.5563 - val_loss: 0.7193 - val_acc: 0.4286\n",
      "Epoch 35/40\n",
      "10/10 [==============================] - 1s 104ms/step - loss: 0.6921 - acc: 0.5441 - val_loss: 0.7134 - val_acc: 0.4286\n",
      "Epoch 36/40\n",
      "10/10 [==============================] - 1s 91ms/step - loss: 0.6900 - acc: 0.5567 - val_loss: 0.7142 - val_acc: 0.4286\n",
      "Epoch 37/40\n",
      "10/10 [==============================] - 1s 86ms/step - loss: 0.6965 - acc: 0.5226 - val_loss: 0.7099 - val_acc: 0.4286\n",
      "Epoch 38/40\n",
      "10/10 [==============================] - 1s 88ms/step - loss: 0.6918 - acc: 0.5396 - val_loss: 0.7073 - val_acc: 0.4286\n",
      "Epoch 39/40\n",
      "10/10 [==============================] - 1s 84ms/step - loss: 0.6889 - acc: 0.5611 - val_loss: 0.7102 - val_acc: 0.4286\n",
      "Epoch 40/40\n",
      "10/10 [==============================] - 1s 88ms/step - loss: 0.6856 - acc: 0.5674 - val_loss: 0.7148 - val_acc: 0.4286\n"
     ]
    },
    {
     "data": {
      "text/plain": [
       "<keras.callbacks.History at 0x7fb3b19fb240>"
      ]
     },
     "execution_count": 59,
     "metadata": {},
     "output_type": "execute_result"
    }
   ],
   "source": [
    "random.seed(1)\n",
    "model.fit_generator(\n",
    "    aug.flow(trainX, trainY, batch_size=16),\n",
    "    validation_data=(testX, testY),\n",
    "    steps_per_epoch=len(trainX) // 16,\n",
    "    epochs=40)"
   ]
  },
  {
   "cell_type": "markdown",
   "metadata": {},
   "source": [
    "### Gráficos para avaliação do modelo"
   ]
  },
  {
   "cell_type": "code",
   "execution_count": 56,
   "metadata": {},
   "outputs": [
    {
     "data": {
      "text/plain": [
       "<matplotlib.legend.Legend at 0x7fb3b1c4cf28>"
      ]
     },
     "execution_count": 56,
     "metadata": {},
     "output_type": "execute_result"
    },
    {
     "data": {
      "image/png": "[encoded data removed]",
      "text/plain": [
       "<Figure size 1152x576 with 1 Axes>"
      ]
     },
     "metadata": {
      "needs_background": "light"
     },
     "output_type": "display_data"
    }
   ],
   "source": [
    "H=model.history\n",
    "plt.rcParams['figure.figsize'] = 16, 8\n",
    "plt.figure()\n",
    "N = H.epoch[-1]+1\n",
    "plt.plot(np.arange(0, N), H.history[\"loss\"], label=\"train_loss\")\n",
    "plt.plot(np.arange(0, N), H.history[\"val_loss\"], label=\"val_loss\")\n",
    "plt.plot(np.arange(0, N), H.history[\"acc\"], label=\"train_acc\")\n",
    "plt.plot(np.arange(0, N), H.history[\"val_acc\"], label=\"val_acc\")\n",
    "plt.title(\"Training Loss and Accuracy\")\n",
    "plt.xlabel(\"Epoch #\")\n",
    "plt.ylabel(\"Loss/Accuracy\")\n",
    "plt.legend(loc=\"upper left\")"
   ]
  },
  {
   "cell_type": "markdown",
   "metadata": {},
   "source": [
    "### Save do modelo como model.h5"
   ]
  },
  {
   "cell_type": "code",
   "execution_count": 54,
   "metadata": {},
   "outputs": [],
   "source": [
    "model.save(\"model_WSTUDIO.h5\")"
   ]
  },
  {
   "cell_type": "markdown",
   "metadata": {},
   "source": [
    "### Upload do modelo no IBM Cloud Object Storage"
   ]
  },
  {
   "cell_type": "markdown",
   "metadata": {},
   "source": [
    "### Upload do modelo no IBM Watson Machine Learning - para export de API"
   ]
  },
  {
   "cell_type": "code",
   "execution_count": 55,
   "metadata": {},
   "outputs": [
    {
     "name": "stdout",
     "output_type": "stream",
     "text": [
      "model_WSTUDIO.h5\r\n"
     ]
    }
   ],
   "source": [
    "# o modelo deve estar em formato .tar.gz para subir no WML\n",
    "!tar -zcvf model_WSTUDIO.tar.gz model_WSTUDIO.h5"
   ]
  },
  {
   "cell_type": "code",
   "execution_count": null,
   "metadata": {},
   "outputs": [],
   "source": [
    "# Credenciais do Watson Machine Learning\n",
    "wml_credentials  = {\n",
    "  \"apikey\": \"K9SRZk1WdW9oA_uEbSUV6IBDnYOz5RC8FTSnqB0pWiPT\",\n",
    "  \"iam_apikey_description\": \"Auto-generated for key 8d98bf3c-518d-492f-a271-d0b6b7ebd362\",\n",
    "  \"iam_apikey_name\": \"wdp-writer\",\n",
    "  \"iam_role_crn\": \"crn:v1:bluemix:public:iam::::serviceRole:Writer\",\n",
    "  \"iam_serviceid_crn\": \"crn:v1:bluemix:public:iam-identity::a/1de11f71360f42fd9ba01f2b76bced35::serviceid:ServiceId-e809b862-d7cc-4230-8f62-7c56d45935f2\",\n",
    "  \"instance_id\": \"f872faaa-1d3b-4d8a-9cf7-1eef9672debb\",\n",
    "  \"url\": \"https://us-south.ml.cloud.ibm.com\"\n",
    "}\n",
    "client = WatsonMachineLearningAPIClient( wml_credentials )\n",
    "\n",
    "# Definição de metadados do modelo (versao de python, framework, libs e etc)\n",
    "sample_saved_model_filename = 'model_WSTUDIO.tar.gz'\n",
    "metadata = {\n",
    "    client.repository.ModelMetaNames.NAME              : 'MY_FIRST_SUBMIT',\n",
    "    client.repository.ModelMetaNames.FRAMEWORK_NAME    : 'tensorflow',\n",
    "    client.repository.ModelMetaNames.FRAMEWORK_VERSION : '1.11',\n",
    "    client.repository.ModelMetaNames.RUNTIME_NAME      : 'python',\n",
    "    client.repository.ModelMetaNames.RUNTIME_VERSION   : '3.6',\n",
    "    client.repository.ModelMetaNames.FRAMEWORK_LIBRARIES :  [{\"name\": \"keras\", \"version\": \"2.2.4\"}]\n",
    "}\n",
    "\n",
    "\n",
    "# Conexão com o WML\n",
    "model_details = client.repository.store_model( sample_saved_model_filename, meta_props=metadata, training_data=None )\n",
    "\n",
    "# Deploy do modelo\n",
    "model_id = model_details[\"metadata\"][\"guid\"]\n",
    "model_deployment_details = client.deployments.create( artifact_uid=model_id, name=\"MY FIRST SUBMIT D9 Behind The Code\" )\n",
    "\n",
    "# Retrieve da URL da API para consumo da mesma\n",
    "model_endpoint_url = client.deployments.get_scoring_url( model_deployment_details )\n",
    "print(\"A URL de chamada da sua API é : \",model_endpoint_url)"
   ]
  },
  {
   "cell_type": "markdown",
   "metadata": {},
   "source": [
    "### Chamada da API para teste"
   ]
  },
  {
   "cell_type": "code",
   "execution_count": null,
   "metadata": {},
   "outputs": [],
   "source": [
    "# Download de imagem teste\n",
    "!wget -O teste2.jpg https://www.dropbox.com/s/73fofwe566749sl/teste123.jpg?dl=0"
   ]
  },
  {
   "cell_type": "code",
   "execution_count": null,
   "metadata": {},
   "outputs": [],
   "source": [
    "# Montagem da estrutura de JSON para chamada da API do WML\n",
    "ai_parms = { \"wml_credentials\" : wml_credentials, \"model_endpoint_url\" : model_endpoint_url }\n",
    "\n",
    "# Load da imagem de teste e pre-processing da mesma - para entrada na rede neural convolucional\n",
    "image = Kimage.load_img(\"teste2.jpg\")\n",
    "plt.imshow(image)\n",
    "image = image.resize(size=(96,96))\n",
    "image = img_to_array(image)\n",
    "image = np.array(image, dtype=\"float\") / 255.0\n",
    "image = np.expand_dims(image,axis=0)\n",
    "image = image.tolist()\n",
    "\n",
    "# Chamada da função SCORE no modelo (inference)\n",
    "model_payload = { \"values\" : image }\n",
    "model_result = client.deployments.score( ai_parms[\"model_endpoint_url\"], model_payload )\n",
    "print(model_result)\n",
    "\n",
    "print(\"\\nImagem Classificada como : \", classes[model_result['values'][0][1][0]])\n",
    "\n",
    "print(\"\\nProbabilidades : \\n\\t\",\n",
    "      classes[model_result['values'][0][1][0]],\" : %.2f\" %(model_result['values'][0][0][0]*100),\"%\\n\\t\",\n",
    "     )"
   ]
  },
  {
   "cell_type": "markdown",
   "metadata": {},
   "source": [
    "# BOA SORTE"
   ]
  }
 ],
 "metadata": {
  "kernelspec": {
   "display_name": "Python 3",
   "language": "python",
   "name": "python3"
  },
  "language_info": {
   "codemirror_mode": {
    "name": "ipython",
    "version": 3
   },
   "file_extension": ".py",
   "mimetype": "text/x-python",
   "name": "python",
   "nbconvert_exporter": "python",
   "pygments_lexer": "ipython3",
   "version": "3.5.2"
  }
 },
 "nbformat": 4,
 "nbformat_minor": 2
}
